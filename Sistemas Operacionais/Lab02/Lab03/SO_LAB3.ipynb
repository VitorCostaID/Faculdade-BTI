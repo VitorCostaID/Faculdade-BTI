{
 "cells": [
  {
   "cell_type": "markdown",
   "metadata": {
    "id": "X9vcRp4J1LBi"
   },
   "source": [
    "### **Parte 1 - Threads**\n",
    "Threads são linhas de execução. Cada processo tem ao menos uma thread, mas pode conter várias, dividindo assim sua execução em várias tarefas menores.\n",
    "\n",
    "Para criar uma thread, usamos a função *pthread_create*. Tal função retorna um int que indica o status da criação, sendo 0, se ela foi bem sucedida, ou outro valor, se houve algum problema. Além disso, ela tem os seguintes argumentos:\n",
    "1. Ponteiro que armazena o identificador da thread;\n",
    "2. Atributos da thread. Caso queira os atributos padrão, use NULL;\n",
    "3. Ponteiro da função a ser usada para a thread. Tal função tem um único argumento: um ponteiro para void;\n",
    "4. Um ponteiro para o argumento da função do ponto 3.\n",
    "\n",
    "Outras funções úteis no gerenciamento das threads são a *pthread_exit*, a qual encerra a thread, e a *pthread_join*, que faz uma thread aguardar o encerramento de outra thread especificada. Veja a utilização dessas funções no exemplo abaixo, que faz *n* threads imprimirem uma mensagem na tela.\n",
    "\n",
    "\n",
    "\n"
   ]
  },
  {
   "cell_type": "markdown",
   "metadata": {},
   "source": [
    "### **Parte 2 - Exercícios**\n"
   ]
  },
  {
   "cell_type": "markdown",
   "metadata": {},
   "source": [
    "**Exercício 1** (0,75)\n",
    "\n",
    "Comente a linha *pthread_join(threads[i],NULL)* no código *helloThreads.c* e veja o que acontece. Faça modificações no código para obter novamente a saída original sem necessitar usar um *pthread_join*. Dica: basta adicionar uma linha ao código.\n",
    "\n",
    "\n",
    "\n",
    "---\n",
    "\n",
    "\n"
   ]
  },
  {
   "cell_type": "code",
   "execution_count": null,
   "metadata": {
    "colab": {
     "base_uri": "https://localhost:8080/"
    },
    "id": "bYoXFa_uJHJv",
    "outputId": "32fef7e2-3c42-4cfe-8dbb-e32d43f1179f"
   },
   "outputs": [
    {
     "name": "stdout",
     "output_type": "stream",
     "text": [
      "Overwriting helloThreads.c\n"
     ]
    }
   ],
   "source": [
    "%%writefile helloThreads.c\n",
    "#include <pthread.h>\n",
    "#include <sys/types.h>\n",
    "#include <sys/wait.h>\n",
    "#include <stdio.h>\n",
    "#include <unistd.h>\n",
    "#include <sys/shm.h>\n",
    "#include <sys/stat.h>\n",
    "#include <stdlib.h>\n",
    "\n",
    "// Variavel global que define o numero de threads\n",
    "int numberOfThreads=5;\n",
    "\n",
    "// Funcao que as threads vao usar para dar um ola\n",
    "void *printHello(void *tid){\n",
    "  printf(\"Ola, eu sou a thread %d.\\n\", (int)(size_t) tid);\n",
    "  pthread_exit(NULL);\n",
    "}\n",
    "\n",
    "int main(int argc, char **argv)\n",
    "{\n",
    "  pthread_t threads[numberOfThreads];\n",
    "  for (int i=0;i<numberOfThreads;i++){\n",
    "    // Criando uma thread e passando para ela a funcao printHello\n",
    "    int status=pthread_create(&threads[i],NULL,printHello,(void *)(size_t) i);\n",
    "\n",
    "    // Se o status nao for 0, houve um erro na criacao da thread\n",
    "    if(status!=0){\n",
    "      printf(\"Erro na criacao da thread %d. Codigo de erro %d.\",i, status);\n",
    "      return 1;\n",
    "    }\n",
    "\n",
    "    // Faz a thread principal esperar pela thread filha. Similar a funcao wait.\n",
    "    //pthread_join(threads[i],NULL);\n",
    "  }\n",
    "\n",
    "  sleep(1); \n",
    "\n",
    "  return 0;\n",
    "}"
   ]
  },
  {
   "cell_type": "code",
   "execution_count": 6,
   "metadata": {
    "colab": {
     "base_uri": "https://localhost:8080/"
    },
    "id": "zosFKTf8cBJz",
    "outputId": "f885130e-3421-4d52-ff7f-16e85b7d2e05"
   },
   "outputs": [
    {
     "name": "stdout",
     "output_type": "stream",
     "text": [
      "Ola, eu sou a thread 0.\n",
      "Ola, eu sou a thread 1.\n",
      "Ola, eu sou a thread 3.\n",
      "Ola, eu sou a thread 2.\n",
      "Ola, eu sou a thread 4.\n"
     ]
    }
   ],
   "source": [
    "!gcc ./helloThreads.c -o helloThreads\n",
    "!./helloThreads"
   ]
  },
  {
   "cell_type": "markdown",
   "metadata": {
    "id": "cClPjVgGKrXj"
   },
   "source": [
    "**Exercício 2** (0,75)\n",
    "\n",
    "Refaça o exercício 2 do laboratório 2 usando threads."
   ]
  },
  {
   "cell_type": "code",
   "execution_count": 7,
   "metadata": {
    "colab": {
     "base_uri": "https://localhost:8080/"
    },
    "id": "1IvpVo5kHVDW",
    "outputId": "cbc587f5-f36b-4e7c-bd18-46d866f2e9ee"
   },
   "outputs": [
    {
     "name": "stdout",
     "output_type": "stream",
     "text": [
      "Writing exercicio2.c\n"
     ]
    }
   ],
   "source": [
    "%%writefile exercicio2.c\n",
    "#include <pthread.h>\n",
    "#include <stdio.h>\n",
    "#include <stdlib.h>\n",
    "\n",
    "int n = 20; // quantidade de termos da sequência de Fibonacci\n",
    "int fib[20]; // O array para armazenar a sequência de Fibonacci\n",
    "\n",
    "// Funcao que a thread vai usar para gerar a sequencia\n",
    "void *generateFibonacci(void *param) {\n",
    "    fib[0] = 0;\n",
    "    if (n > 1) {\n",
    "        fib[1] = 1;\n",
    "        for (int i = 2; i < n; i++) {\n",
    "            fib[i] = fib[i-1] + fib[i-2];\n",
    "        }\n",
    "    }\n",
    "    pthread_exit(0);\n",
    "}\n",
    "\n",
    "int main(int argc, char **argv) {\n",
    "    pthread_t tid;\n",
    "    pthread_attr_t attr;\n",
    "\n",
    "    // Obtém os atributos padrão da thread\n",
    "    pthread_attr_init(&attr);\n",
    "\n",
    "    // Cria a thread e passa a função\n",
    "    pthread_create(&tid, &attr, generateFibonacci, NULL);\n",
    "\n",
    "    // Espera a thread terminar\n",
    "    pthread_join(tid, NULL);\n",
    "\n",
    "    // Imprime a sequência\n",
    "    printf(\"Sequência de Fibonacci até n=%d (gerada pela thread):\\n\", n);\n",
    "    for (int i = 0; i < n; i++) {\n",
    "        printf(\"%d \", fib[i]);\n",
    "    }\n",
    "    printf(\"\\n\");\n",
    "\n",
    "    return 0;\n",
    "}"
   ]
  },
  {
   "cell_type": "code",
   "execution_count": 8,
   "metadata": {
    "colab": {
     "base_uri": "https://localhost:8080/"
    },
    "id": "0mhVfUTuLhul",
    "outputId": "09b3bbb5-67bd-4244-9846-d6419e62c715"
   },
   "outputs": [
    {
     "name": "stdout",
     "output_type": "stream",
     "text": [
      "Sequência de Fibonacci até n=20 (gerada pela thread):\n",
      "0 1 1 2 3 5 8 13 21 34 55 89 144 233 377 610 987 1597 2584 4181 \n"
     ]
    }
   ],
   "source": [
    "!gcc ./exercicio2.c -o exercicio2\n",
    "!./exercicio2"
   ]
  },
  {
   "cell_type": "markdown",
   "metadata": {},
   "source": [
    "**Exercício 3** (1,00)\n",
    "\n",
    "Refaça o exercício 3 do laboratório 2 usando threads.\n",
    "\n",
    "\n",
    "---"
   ]
  },
  {
   "cell_type": "code",
   "execution_count": 9,
   "metadata": {},
   "outputs": [
    {
     "name": "stdout",
     "output_type": "stream",
     "text": [
      "Writing exercicio3.c\n"
     ]
    }
   ],
   "source": [
    "%%writefile exercicio3.c\n",
    "#include <pthread.h>\n",
    "#include <stdio.h>\n",
    "#include <stdlib.h>\n",
    "\n",
    "// A variável global para a soma\n",
    "long long sum = 0;\n",
    "// O mutex para garantir a exclusão mútua na seção crítica\n",
    "pthread_mutex_t lock;\n",
    "\n",
    "// Função que cada thread vai executar para somar um número\n",
    "void *add_to_sum(void *arg) {\n",
    "    int i = (int)(size_t)arg;\n",
    "    \n",
    "    // Bloqueia o mutex para acessar a variável compartilhada\n",
    "    pthread_mutex_lock(&lock);\n",
    "    \n",
    "    // Adiciona o número à soma global\n",
    "    sum += i;\n",
    "    \n",
    "    // Desbloqueia o mutex\n",
    "    pthread_mutex_unlock(&lock);\n",
    "    \n",
    "    return NULL;\n",
    "}\n",
    "\n",
    "int main(int argc, char **argv) {\n",
    "    int n = 10;\n",
    "    \n",
    "    // Inicializa o mutex\n",
    "    if (pthread_mutex_init(&lock, NULL) != 0) {\n",
    "        printf(\"\\n mutex init falhou\\n\");\n",
    "        return 1;\n",
    "    }\n",
    "\n",
    "    pthread_t threads[n];\n",
    "\n",
    "    // Loop para criar as threads\n",
    "    for (int i = 1; i <= n; i++) {\n",
    "        pthread_create(&threads[i-1], NULL, add_to_sum, (void *)(size_t)i);\n",
    "    }\n",
    "\n",
    "    // Espera todas as threads terminarem\n",
    "    for (int i = 0; i < n; i++) {\n",
    "        pthread_join(threads[i], NULL);\n",
    "    }\n",
    "\n",
    "    // Imprime o resultado final\n",
    "    printf(\"Soma de 1 até %d = %lld\\n\", n, sum);\n",
    "\n",
    "    // Destrói o mutex\n",
    "    pthread_mutex_destroy(&lock);\n",
    "\n",
    "    return 0;\n",
    "}"
   ]
  },
  {
   "cell_type": "code",
   "execution_count": 10,
   "metadata": {},
   "outputs": [
    {
     "name": "stdout",
     "output_type": "stream",
     "text": [
      "Soma de 1 até 10 = 55\n"
     ]
    }
   ],
   "source": [
    "!gcc ./exercicio3.c -o exercicio3\n",
    "!./exercicio3"
   ]
  }
 ],
 "metadata": {
  "colab": {
   "provenance": []
  },
  "kernelspec": {
   "display_name": "Python 3",
   "language": "python",
   "name": "python3"
  },
  "language_info": {
   "codemirror_mode": {
    "name": "ipython",
    "version": 3
   },
   "file_extension": ".py",
   "mimetype": "text/x-python",
   "name": "python",
   "nbconvert_exporter": "python",
   "pygments_lexer": "ipython3",
   "version": "3.12.1"
  }
 },
 "nbformat": 4,
 "nbformat_minor": 4
}
