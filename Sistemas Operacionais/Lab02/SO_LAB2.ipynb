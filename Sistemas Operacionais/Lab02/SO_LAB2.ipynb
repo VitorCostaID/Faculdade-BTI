{
 "cells": [
  {
   "cell_type": "markdown",
   "metadata": {},
   "source": [
    "**Exercício 1** (0,75)\n",
    "\n",
    "Modifique o código acima para fazer com que dois processos filhos alterem uma memória compartilhada contendo um inteiro. Faça o processo pai esperar por seus dois filhos para depois imprimir o valor da variável na tela. Dica: olhe o código do exercício 3 do Laboratório 1.\n",
    "\n",
    "---"
   ]
  },
  {
   "cell_type": "code",
   "execution_count": null,
   "metadata": {
    "colab": {
     "base_uri": "https://localhost:8080/"
    },
    "id": "Ku26kq2YLn91",
    "outputId": "1c799702-81d9-4b49-e0bb-f93ff1b0111b"
   },
   "outputs": [
    {
     "name": "stdout",
     "output_type": "stream",
     "text": [
      "Overwriting sharedMemory.c\n"
     ]
    }
   ],
   "source": [
    "%%writefile exercicio1.c\n",
    "#include <sys/types.h>\n",
    "#include <sys/wait.h>\n",
    "#include <stdio.h>\n",
    "#include <unistd.h>\n",
    "#include <sys/shm.h>\n",
    "#include <sys/stat.h>\n",
    "#include <stdlib.h>\n",
    "\n",
    "int main(int argc, char **argv)\n",
    "{\n",
    "  // Criando o segmento de memória compartilhada\n",
    "  int segment_id = shmget(IPC_PRIVATE, sizeof(int), S_IRUSR | S_IWUSR);\n",
    "  \n",
    "  // Criação do ponteiro de memória compartilhada\n",
    "  int *sharedMemory;\n",
    "\n",
    "  // Criando o primeiro processo filho\n",
    "  pid_t pid1 = fork();\n",
    "\n",
    "  if (pid1 < 0) { // Erro na criação do processo\n",
    "    printf(\"Sou o processo %d e nao consegui criar um novo processo.\\n\", getpid());\n",
    "    return 1;\n",
    "  } else if (pid1 == 0) { // PRIMEIRO PROCESSO FILHO\n",
    "    // Anexando a memória compartilhada.\n",
    "    sharedMemory = (int *)shmat(segment_id, NULL, 0);\n",
    "\n",
    "    // Inicializando o valor na memória compartilhada\n",
    "    *sharedMemory = 10;\n",
    "    \n",
    "    printf(\"Filho 1 (ID: %d) definiu o valor para: %d\\n\", getpid(), *sharedMemory);\n",
    "\n",
    "    // Desanexando a memória compartilhada\n",
    "    shmdt(sharedMemory);\n",
    "\n",
    "    // Encerrando o processo filho\n",
    "    exit(0);\n",
    "  } else { // PROCESSO PAI\n",
    "    // O pai cria o SEGUNDO processo filho\n",
    "    pid_t pid2 = fork();\n",
    "\n",
    "    if (pid2 < 0) { // Erro na criação do segundo processo\n",
    "      printf(\"Sou o processo %d e nao consegui criar um segundo processo.\\n\", getpid());\n",
    "      return 1;\n",
    "    } else if (pid2 == 0) { // SEGUNDO PROCESSO FILHO\n",
    "      // Anexando a memória compartilhada.\n",
    "      sharedMemory = (int *)shmat(segment_id, NULL, 0);\n",
    "\n",
    "      // O segundo filho modifica o valor já existente.\n",
    "      // Ele adiciona 5 ao valor que o primeiro filho colocou (10).\n",
    "      *sharedMemory += 5;\n",
    "\n",
    "      printf(\"Filho 2 (ID: %d) somou 5. Novo valor: %d\\n\", getpid(), *sharedMemory);\n",
    "\n",
    "      // Desanexando a memória compartilhada\n",
    "      shmdt(sharedMemory);\n",
    "\n",
    "      // Encerrando o processo filho\n",
    "      exit(0);\n",
    "    } else { // PROCESSO PAI NOVAMENTE\n",
    "      wait(NULL);\n",
    "      wait(NULL);\n",
    "\n",
    "      // Anexando a memória compartilhada para ler o valor final.\n",
    "      sharedMemory = (int *)shmat(segment_id, NULL, 0);\n",
    "\n",
    "      // O printf agora exibe o valor final corretamente.\n",
    "      printf(\"O valor final na memoria compartilhada é: %d\\n\", *sharedMemory);\n",
    "      \n",
    "      // Desanexando a memória\n",
    "      shmdt(sharedMemory);\n",
    "\n",
    "      // Removendo o segmento de memória compartilhada\n",
    "      shmctl(segment_id, IPC_RMID, NULL);\n",
    "    }\n",
    "  }\n",
    "  return 0;\n",
    "}\n"
   ]
  },
  {
   "cell_type": "code",
   "execution_count": null,
   "metadata": {
    "colab": {
     "base_uri": "https://localhost:8080/"
    },
    "id": "4hQcMatZXEK7",
    "outputId": "56f5b1be-3e50-48dc-be2a-17c0d575fcb1"
   },
   "outputs": [
    {
     "name": "stdout",
     "output_type": "stream",
     "text": [
      "Filho 1 (ID: 8640) definiu o valor para: 10\n",
      "Filho 2 (ID: 8641) somou 5. Novo valor: 15\n",
      "O valor final na memoria compartilhada é: 15\n"
     ]
    }
   ],
   "source": [
    "!gcc ./exercicio1.c -o exercicio1\n",
    "!./exercicio1"
   ]
  },
  {
   "cell_type": "markdown",
   "metadata": {},
   "source": [
    "**Exercício 2** (0,75)\n",
    "\n",
    "Utilizando comunicação entre processos, crie um código que escreva a Sequência de Fibonacci, com o parâmetro n sendo uma variável global. Tal sequência deve ser gerada por um processo filho, mas deve ser impressa na tela pelo processo pai. Dica: olhe o código do desafio do Laboratório 1.\n",
    "\n",
    "\n",
    "---"
   ]
  },
  {
   "cell_type": "code",
   "execution_count": 5,
   "metadata": {},
   "outputs": [
    {
     "name": "stdout",
     "output_type": "stream",
     "text": [
      "Writing exercicio2.c\n"
     ]
    }
   ],
   "source": [
    "%%writefile exercicio2.c\n",
    "#include <sys/types.h>\n",
    "#include <sys/wait.h>\n",
    "#include <stdio.h>\n",
    "#include <unistd.h>\n",
    "#include <stdlib.h>\n",
    "\n",
    "int n = 20; // quantidade de termos da sequência de Fibonacci\n",
    "\n",
    "int main(int argc, char **argv)\n",
    "{\n",
    "    int fd[2];\n",
    "    if (pipe(fd) == -1) {\n",
    "        perror(\"Erro ao criar pipe\");\n",
    "        exit(1);\n",
    "    }\n",
    "\n",
    "    pid_t pid = fork();\n",
    "\n",
    "    if (pid == -1) {\n",
    "        perror(\"Erro no fork\");\n",
    "        exit(1);\n",
    "    }\n",
    "\n",
    "    if (pid == 0) {\n",
    "        // Processo filho -> gera Fibonacci e envia pelo pipe\n",
    "        close(fd[0]); // fecha leitura (não vai usar)\n",
    "\n",
    "        int a = 0, b = 1, c;\n",
    "        write(fd[1], &a, sizeof(int)); // escreve primeiro termo\n",
    "        if (n > 0) {\n",
    "            write(fd[1], &b, sizeof(int)); // escreve segundo termo\n",
    "        }\n",
    "\n",
    "        for (int i = 2; i <= n; i++) {\n",
    "            c = a + b;\n",
    "            write(fd[1], &c, sizeof(int));\n",
    "            a = b;\n",
    "            b = c;\n",
    "        }\n",
    "\n",
    "        close(fd[1]); // fecha escrita\n",
    "        exit(0);\n",
    "    } else {\n",
    "        // Processo pai -> lê do pipe e imprime\n",
    "        close(fd[1]); // fecha escrita\n",
    "\n",
    "        printf(\"Sequência de Fibonacci até n=%d:\\n\", n);\n",
    "        int valor;\n",
    "        while (read(fd[0], &valor, sizeof(int)) > 0) {\n",
    "            printf(\"%d \", valor);\n",
    "        }\n",
    "        printf(\"\\n\");\n",
    "\n",
    "        close(fd[0]); // fecha leitura\n",
    "        wait(NULL);   // espera filho terminar\n",
    "    }\n",
    "\n",
    "    return 0;\n",
    "}"
   ]
  },
  {
   "cell_type": "code",
   "execution_count": 6,
   "metadata": {},
   "outputs": [
    {
     "name": "stdout",
     "output_type": "stream",
     "text": [
      "Sequência de Fibonacci até n=20:\n",
      "0 1 1 2 3 5 8 13 21 34 55 89 144 233 377 610 987 1597 2584 4181 6765 \n"
     ]
    }
   ],
   "source": [
    "!gcc ./exercicio2.c -o exercicio2\n",
    "!./exercicio2"
   ]
  },
  {
   "cell_type": "markdown",
   "metadata": {},
   "source": [
    "**Exercício 3** (1,00)\n",
    "\n",
    "Usando comunicação entre processos, escreva um código que realiza a soma de *n* números naturais, sendo *n* uma variável global. Cada processo deve fazer apenas a soma de dois números e o resultado final deve ser retornado pelo primeiro processo. Por exemplo, o processo 1 deve fazer a soma de 0+1, o processo 2 vai pegar esse resultado e somar com 2, e assim por diante.\n",
    "\n",
    "\n",
    "---\n"
   ]
  },
  {
   "cell_type": "code",
   "execution_count": 3,
   "metadata": {},
   "outputs": [
    {
     "name": "stdout",
     "output_type": "stream",
     "text": [
      "Overwriting exercicio3.c\n"
     ]
    }
   ],
   "source": [
    "%%writefile exercicio3.c\n",
    "#include <sys/types.h>\n",
    "#include <sys/wait.h>\n",
    "#include <stdio.h>\n",
    "#include <unistd.h>\n",
    "#include <stdlib.h>\n",
    "\n",
    "int n = 10; // soma dos 10 primeiros números naturais (0+1+...+10)\n",
    "\n",
    "int main(int argc, char **argv)\n",
    "{\n",
    "    int fd[2]; // pipe para comunicação\n",
    "    if (pipe(fd) == -1) {\n",
    "        perror(\"Erro ao criar pipe\");\n",
    "        exit(1);\n",
    "    }\n",
    "\n",
    "    pid_t pid;\n",
    "    int acumulado = 0;\n",
    "\n",
    "    // Processo pai inicial escreve o valor inicial (0) no pipe\n",
    "    if (write(fd[1], &acumulado, sizeof(int)) == -1) {\n",
    "        perror(\"Erro ao escrever no pipe\");\n",
    "        exit(1);\n",
    "    }\n",
    "\n",
    "    // Criar n processos (um para cada soma)\n",
    "    for (int i = 1; i <= n; i++) {\n",
    "        pid = fork();\n",
    "\n",
    "        if (pid == -1) {\n",
    "            perror(\"Erro no fork\");\n",
    "            exit(1);\n",
    "        }\n",
    "\n",
    "        if (pid == 0) { // processo filho\n",
    "            int valor;\n",
    "            // Lê o valor atual do pipe\n",
    "            if (read(fd[0], &valor, sizeof(int)) == -1) {\n",
    "                perror(\"Erro ao ler do pipe\");\n",
    "                exit(1);\n",
    "            }\n",
    "\n",
    "            // Soma o índice i\n",
    "            valor += i;\n",
    "\n",
    "            // Escreve de volta para o pipe\n",
    "            if (write(fd[1], &valor, sizeof(int)) == -1) {\n",
    "                perror(\"Erro ao escrever no pipe\");\n",
    "                exit(1);\n",
    "            }\n",
    "\n",
    "            exit(0); // filho encerra\n",
    "        } else { // pai\n",
    "            wait(NULL); // espera o filho terminar\n",
    "        }\n",
    "    }\n",
    "\n",
    "    // No final, o processo pai pega o valor acumulado final\n",
    "    if (read(fd[0], &acumulado, sizeof(int)) == -1) {\n",
    "        perror(\"Erro ao ler resultado final\");\n",
    "        exit(1);\n",
    "    }\n",
    "\n",
    "    printf(\"Soma de 0 até %d = %d\\n\", n, acumulado);\n",
    "    return 0;\n",
    "}"
   ]
  },
  {
   "cell_type": "code",
   "execution_count": 4,
   "metadata": {},
   "outputs": [
    {
     "name": "stdout",
     "output_type": "stream",
     "text": [
      "Soma de 0 até 10 = 55\n"
     ]
    }
   ],
   "source": [
    "!gcc ./exercicio3.c -o exercicio3\n",
    "!./exercicio3"
   ]
  }
 ],
 "metadata": {
  "colab": {
   "provenance": []
  },
  "kernelspec": {
   "display_name": "Python 3",
   "language": "python",
   "name": "python3"
  },
  "language_info": {
   "codemirror_mode": {
    "name": "ipython",
    "version": 3
   },
   "file_extension": ".py",
   "mimetype": "text/x-python",
   "name": "python",
   "nbconvert_exporter": "python",
   "pygments_lexer": "ipython3",
   "version": "3.12.1"
  }
 },
 "nbformat": 4,
 "nbformat_minor": 4
}
