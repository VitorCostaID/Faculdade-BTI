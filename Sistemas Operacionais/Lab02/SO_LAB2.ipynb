{
 "cells": [
  {
   "cell_type": "markdown",
   "metadata": {
    "id": "r69NinaO5QKZ"
   },
   "source": [
    "# Sistemas Operacionais\n",
    "## Laboratório 02 - Threads e comunicação entre processos\n",
    "\n",
    "### **Introdução**\n",
    "\n",
    "Neste laboratório aprenderemos a realizar a comunicação entre processos usando o padrão POSIX e a linguagem C no Linux. O foco desta aula será no aspecto prático do conteúdo, todavia um breve resumo da teoria será exposto, quando necessário, para auxiliar na execução dos exercícios.\n",
    "\n",
    "Ao final desta aula, o estudante deverá ser capaz de:\n",
    "* Fazer o estabelecimento de uma área de memória compartilhada;\n",
    "* Fazer a manipulação de variáveis usando múltiplos processos.\n",
    "\n",
    "### **Instruções**\n",
    "\n",
    "Este laboratório foi elaborado utilizando a ferramenta Google Colab, com o objetivo de evitar a necessidade de instalação de programas adicionais ou máquinas virtuais. Para completá-lo, espera-se que o aluno siga os comandos de cada etapa, buscando compreender o impacto das execuções no sistema. Recomenda-se também que o aluno introduza pequenas modificações nos códigos fornecidos, como forma de testar e consolidar seu aprendizado.\n",
    "\n",
    "O material inclui 3 exercícios práticos e corresponde a 2,5 pontos na nota da unidade. **A entrega deverá ser realizada via SIGAA, sendo necessário enviar apenas os códigos que respondem aos exercícios. Recomenda-se que estes sejam organizados em um arquivo com extensão *.ipynb*. O envio dos códigos em formato PDF ou em imagem, por dificultar a correção, acarretará um desconto de 1 ponto na nota final do laboratório.**\n",
    "\n",
    "A professora não fornecerá orientações sobre programação até o prazo final do exercício; contudo, o aluno poderá consultar todos os materiais que julgar necessários.\n"
   ]
  },
  {
   "cell_type": "markdown",
   "metadata": {
    "id": "YAUhUDqhKLoO"
   },
   "source": [
    "### **Parte 1 - Aprendendo a implementar a comunicação entre processos**\n",
    "Como vimos em nossas aulas teóricas, os processos têm espaços de endereçamentos próprios, os quais, por via de regra, não se comunicam entre si. Quando um processo deseja trocar informações com outros processos, ele pode usar dois modelos de comunicação: transmissão de mensagens ou memória compartilhada.\n",
    "\n",
    "No modelo de comunicação via memória compartilhada, os processos comunicam ao sistema operacional que desejam estabelecer uma região de memória que poderá ser acessada por mais de um processo. Isto é feito por meio das chamadas de sistema *shmget*, que cria a memória compartilhada, e *shmat* que anexa a memória compartilhada ao espaço de endereçamento do processo, retornando um ponteiro de acesso à tal memória.\n",
    "\n",
    "Ao final da comunicação, os processos podem desanexar a memória por meio da chamada de sistema *shmdt* e removê-la via *shmctl*. Observe a utilização de tais chamadas de sistema no código abaixo, no qual o processo pai lê o que o filho escreveu em um espaço de memória compartilhada."
   ]
  },
  {
   "cell_type": "code",
   "execution_count": 1,
   "metadata": {
    "colab": {
     "base_uri": "https://localhost:8080/"
    },
    "id": "Ku26kq2YLn91",
    "outputId": "1c799702-81d9-4b49-e0bb-f93ff1b0111b"
   },
   "outputs": [
    {
     "name": "stdout",
     "output_type": "stream",
     "text": [
      "Writing sharedMemory.c\n"
     ]
    }
   ],
   "source": [
    "%%writefile sharedMemory.c\n",
    "#include <sys/types.h>\n",
    "#include <sys/wait.h>\n",
    "#include <stdio.h>\n",
    "#include <unistd.h>\n",
    "#include <sys/shm.h>\n",
    "#include <sys/stat.h>\n",
    "#include <stdlib.h>\n",
    "\n",
    "int main(int argc, char **argv)\n",
    "{\n",
    "  // Criando o segmento de memoria compartilhada com o tamanho de 100 chars\n",
    "  int segment_id=shmget(IPC_PRIVATE, 100*sizeof(char),S_IRUSR|S_IWUSR);\n",
    "\n",
    "  // Criando o ponteiro que vai apontar para o endereco de memoria compartilhada\n",
    "  char *sharedMemory;\n",
    "\n",
    "  // Funcao usada para criar um novo processo\n",
    "  pid_t pid=fork();\n",
    "\n",
    "  if(pid<0){ // Erro na criacao do processo\n",
    "    printf(\"Sou o processo %d e nao consegui criar um novo processo.\\n\",getpid());\n",
    "    return 1;\n",
    "  }else if(pid==0){ // Processo filho\n",
    "    // Anexando o segmento de memoria compartilhada\n",
    "    sharedMemory=(char *) shmat(segment_id, NULL,0);\n",
    "\n",
    "    // Escrevendo na memoria compartilhada\n",
    "    sprintf(sharedMemory, \"Ola, processo pai, sou o seu filho e o meu ID e %d.\",getpid());\n",
    "\n",
    "    // Desanexando a memoria compartilhada\n",
    "    shmdt(sharedMemory);\n",
    "\n",
    "    // Encerrando o processo filho\n",
    "    exit(0);\n",
    "  }else{ // Processo pai\n",
    "    // Fazendo o pai esperar que o filho termine de escrever\n",
    "    wait(NULL);\n",
    "\n",
    "    // Salvando o ponteiro que aponta para a memoria compartilhada\n",
    "    sharedMemory=(char *) shmat(segment_id, NULL,0);\n",
    "\n",
    "    // Imprimindo mensagem deixada pelo processo filho\n",
    "    printf(\"%s\\n\",sharedMemory);\n",
    "\n",
    "    // Removendo o segmento de memoria compartilhada\n",
    "    shmctl(segment_id, IPC_RMID,NULL);\n",
    "  }\n",
    "  return 0;\n",
    "}\n"
   ]
  },
  {
   "cell_type": "code",
   "execution_count": 2,
   "metadata": {
    "colab": {
     "base_uri": "https://localhost:8080/"
    },
    "id": "4hQcMatZXEK7",
    "outputId": "56f5b1be-3e50-48dc-be2a-17c0d575fcb1"
   },
   "outputs": [
    {
     "name": "stdout",
     "output_type": "stream",
     "text": [
      "Ola, processo pai, sou o seu filho e o meu ID e 14893.\n"
     ]
    }
   ],
   "source": [
    "!gcc ./sharedMemory.c -o sharedMemory\n",
    "!./sharedMemory"
   ]
  },
  {
   "cell_type": "markdown",
   "metadata": {
    "id": "zXjMfYTTv4t0"
   },
   "source": [
    "### **Parte 2 - Exercícios**\n",
    "**Exercício 1** (0,75)\n",
    "\n",
    "Modifique o código acima para fazer com que dois processos filhos alterem uma memória compartilhada contendo um inteiro. Faça o processo pai esperar por seus dois filhos para depois imprimir o valor da variável na tela. Dica: olhe o código do exercício 3 do Laboratório 1.\n",
    "\n",
    "---\n",
    "\n",
    "\n",
    "**Exercício 2** (0,75)\n",
    "\n",
    "Utilizando comunicação entre processos, crie um código que escreva a Sequência de Fibonacci, com o parâmetro n sendo uma variável global. Tal sequência deve ser gerada por um processo filho, mas deve ser impressa na tela pelo processo pai. Dica: olhe o código do desafio do Laboratório 1.\n",
    "\n",
    "\n",
    "---\n",
    "\n",
    "\n",
    "\n",
    "**Exercício 3** (1,00)\n",
    "\n",
    "Usando comunicação entre processos, escreva um código que realiza a soma de *n* números naturais, sendo *n* uma variável global. Cada processo deve fazer apenas a soma de dois números e o resultado final deve ser retornado pelo primeiro processo. Por exemplo, o processo 1 deve fazer a soma de 0+1, o processo 2 vai pegar esse resultado e somar com 2, e assim por diante.\n",
    "\n",
    "\n",
    "---\n",
    "\n"
   ]
  }
 ],
 "metadata": {
  "colab": {
   "provenance": []
  },
  "kernelspec": {
   "display_name": "Python 3",
   "language": "python",
   "name": "python3"
  },
  "language_info": {
   "codemirror_mode": {
    "name": "ipython",
    "version": 3
   },
   "file_extension": ".py",
   "mimetype": "text/x-python",
   "name": "python",
   "nbconvert_exporter": "python",
   "pygments_lexer": "ipython3",
   "version": "3.12.1"
  }
 },
 "nbformat": 4,
 "nbformat_minor": 4
}
